{
 "cells": [
  {
   "cell_type": "markdown",
   "metadata": {},
   "source": [
    "# Importing libraries"
   ]
  },
  {
   "cell_type": "code",
   "execution_count": null,
   "metadata": {},
   "outputs": [],
   "source": [
    "import numpy as np # linear algebra\n",
    "import pandas as pd # data processing, CSV file I/O (e.g. pd.read_csv)\n",
    "import matplotlib.pyplot as plt\n",
    "import seaborn as sns\n",
    "import warnings\n",
    "warnings.filterwarnings('ignore')"
   ]
  },
  {
   "cell_type": "markdown",
   "metadata": {},
   "source": [
    "# Importing datasets"
   ]
  },
  {
   "cell_type": "code",
   "execution_count": null,
   "metadata": {},
   "outputs": [],
   "source": [
    "df_store = pd.read_csv(\"stores data-set.csv\")\n",
    "df_feature = pd.read_csv(\"Features data set.csv\",parse_dates=[\"Date\"])\n",
    "df_sales = pd.read_csv(\"sales data-set.csv\",parse_dates=[\"Date\"])"
   ]
  },
  {
   "cell_type": "code",
   "execution_count": null,
   "metadata": {},
   "outputs": [],
   "source": [
    "df_sales.head()"
   ]
  },
  {
   "cell_type": "code",
   "execution_count": null,
   "metadata": {},
   "outputs": [],
   "source": [
    "df_feature.head()"
   ]
  },
  {
   "cell_type": "code",
   "execution_count": null,
   "metadata": {},
   "outputs": [],
   "source": [
    "df_sales.head()"
   ]
  },
  {
   "cell_type": "markdown",
   "metadata": {},
   "source": [
    "# Combined dataset description"
   ]
  },
  {
   "cell_type": "code",
   "execution_count": null,
   "metadata": {},
   "outputs": [],
   "source": [
    "data_date = df_feature.groupby(\"Date\").agg({\"Temperature\":\"mean\"\n",
    "                                            ,\"Fuel_Price\":\"mean\"\n",
    "                                            ,\"IsHoliday\":\"sum\"\n",
    "                                            ,\"CPI\":\"mean\"\n",
    "                                           ,\"Unemployment\":\"mean\"})\n",
    "data_date = data_date.sort_index()\n",
    "temp_date_data = data_date[:'2012-12-10']\n",
    "\n",
    "data_sales_date = df_sales.groupby(\"Date\").agg({\"Weekly_Sales\":\"sum\"})\n",
    "data_sales_date.sort_index(inplace=True)\n",
    "data_sales_date.Weekly_Sales = data_sales_date.Weekly_Sales/1000000\n",
    "data_sales_date.Weekly_Sales = data_sales_date.Weekly_Sales.apply(int)\n",
    "data = pd.merge(data_sales_date, temp_date_data, left_index=True,right_index=True, how='left')\n",
    "data[\"IsHoliday\"] = data[\"IsHoliday\"].apply(lambda x: True if x == 45.0 else False )"
   ]
  },
  {
   "cell_type": "code",
   "execution_count": null,
   "metadata": {},
   "outputs": [],
   "source": [
    "print(data.describe())"
   ]
  },
  {
   "cell_type": "markdown",
   "metadata": {},
   "source": [
    "# Feature visualization for insights"
   ]
  },
  {
   "cell_type": "code",
   "execution_count": null,
   "metadata": {},
   "outputs": [],
   "source": [
    " plt.style.use('fivethirtyeight')\n",
    "#plt.figure(figsize=(15,4))\n",
    "fig, ax = plt.subplots(5,1,figsize=(15,10),sharex=True) \n",
    "data[\"Weekly_Sales\"].plot(ax=ax[0],title=\"Weekly Sales/sales on Holiday\")\n",
    "data[data.IsHoliday==True][\"Weekly_Sales\"].plot(marker=\"D\",ax=ax[0],legend=\"Holiday Week sale\")\n",
    "data[\"Temperature\"].plot(ax=ax[1], title=\"Temperature\")\n",
    "data[\"Fuel_Price\"].plot(ax=ax[2],title=\"Fuel_Price\")\n",
    "data[\"CPI\"].plot(ax=ax[3],title=\"CPI\")\n",
    "data[\"Unemployment\"].plot(ax=ax[4],title=\"Unemployment\")"
   ]
  },
  {
   "cell_type": "markdown",
   "metadata": {},
   "source": [
    "# Corelation matrix of different features"
   ]
  },
  {
   "cell_type": "code",
   "execution_count": null,
   "metadata": {},
   "outputs": [],
   "source": [
    "sns.heatmap(data.corr(),annot=True)"
   ]
  },
  {
   "cell_type": "markdown",
   "metadata": {},
   "source": [
    "Monthly sales count plot"
   ]
  },
  {
   "cell_type": "code",
   "execution_count": null,
   "metadata": {},
   "outputs": [],
   "source": [
    "data_sales_month = data.groupby(data.index.month).agg({\"Weekly_Sales\":\"sum\"})\n",
    "plt.figure(figsize=(10, 5))\n",
    "sns.barplot(x=data_sales_month.index,y=data_sales_month.Weekly_Sales)\n",
    "plt.title(\"Month wise Sales\")\n",
    "plt.xlabel(\"Month\")\n",
    "plt.ylabel(\"Sales\")"
   ]
  },
  {
   "cell_type": "markdown",
   "metadata": {},
   "source": [
    "Yearly sales count plot"
   ]
  },
  {
   "cell_type": "code",
   "execution_count": null,
   "metadata": {},
   "outputs": [],
   "source": [
    "data_sales_year = data.groupby(data.index.year).agg({\"Weekly_Sales\":\"sum\"})\n",
    "\n",
    "sns.barplot(x=data_sales_year.index,y=data_sales_year.Weekly_Sales)\n",
    "plt.title(\"Year wise Sales\")\n",
    "plt.xlabel(\"Year\")\n",
    "plt.ylabel(\"Sales\")"
   ]
  },
  {
   "cell_type": "code",
   "execution_count": null,
   "metadata": {},
   "outputs": [],
   "source": [
    "sales_date_store = df_sales.groupby([\"Date\",\"Store\"]).agg({\"Weekly_Sales\":\"sum\"})\n",
    "sales_date_store.sort_index(inplace=True)\n",
    "sales_date_store.Weekly_Sales = sales_date_store.Weekly_Sales/10000\n",
    "sales_date_store.Weekly_Sales = sales_date_store.Weekly_Sales.apply(int)\n",
    "data_table = pd.merge(df_feature,sales_date_store ,  how='left', on=[\"Date\",\"Store\"])\n",
    "data_table = pd.merge(data_table,df_store[[\"Store\",\"Type\"]] ,  how='left', on=[\"Store\"])\n",
    "data_table.head(20)\n",
    "data_train = data_table[data_table.Weekly_Sales.notnull()]\n",
    "data_test = data_table[data_table.Weekly_Sales.isnull()]"
   ]
  },
  {
   "cell_type": "markdown",
   "metadata": {},
   "source": [
    "# Analysis Store Type and Year/Month Wise"
   ]
  },
  {
   "cell_type": "code",
   "execution_count": null,
   "metadata": {},
   "outputs": [],
   "source": [
    "plt.figure(figsize=(15, 5))\n",
    "sns.barplot(x=data_train.Date.dt.year, y=data_train.Weekly_Sales,hue=data_train.Type)"
   ]
  }
 ],
 "metadata": {
  "kernelspec": {
   "display_name": "Python 3",
   "language": "python",
   "name": "python3"
  },
  "language_info": {
   "codemirror_mode": {
    "name": "ipython",
    "version": 3
   },
   "file_extension": ".py",
   "mimetype": "text/x-python",
   "name": "python",
   "nbconvert_exporter": "python",
   "pygments_lexer": "ipython3",
   "version": "3.8.3"
  }
 },
 "nbformat": 4,
 "nbformat_minor": 4
}
